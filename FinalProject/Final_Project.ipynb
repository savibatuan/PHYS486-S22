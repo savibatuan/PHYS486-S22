{
  "nbformat": 4,
  "nbformat_minor": 0,
  "metadata": {
    "colab": {
      "name": "Final_Project.ipynb",
      "provenance": [],
      "authorship_tag": "ABX9TyML5kwSgXRRTg4ctPoIuHsw",
      "include_colab_link": true
    },
    "kernelspec": {
      "name": "python3",
      "display_name": "Python 3"
    },
    "language_info": {
      "name": "python"
    }
  },
  "cells": [
    {
      "cell_type": "markdown",
      "metadata": {
        "id": "view-in-github",
        "colab_type": "text"
      },
      "source": [
        "<a href=\"https://colab.research.google.com/github/savibatuan/PHYS486-S22/blob/main/FinalProject/Final_Project.ipynb\" target=\"_parent\"><img src=\"https://colab.research.google.com/assets/colab-badge.svg\" alt=\"Open In Colab\"/></a>"
      ]
    },
    {
      "cell_type": "code",
      "execution_count": 8,
      "metadata": {
        "colab": {
          "base_uri": "https://localhost:8080/",
          "height": 265
        },
        "id": "r6Y7RpuN7vao",
        "outputId": "e281d611-ade8-4b59-a11c-59769357d3e3"
      },
      "outputs": [
        {
          "output_type": "display_data",
          "data": {
            "text/plain": [
              "<Figure size 432x288 with 1 Axes>"
            ],
            "image/png": "[encoded data removed]"
          },
          "metadata": {
            "needs_background": "light"
          }
        }
      ],
      "source": [
        "#Generic Random Walk without defect(2D)\n",
        "\n",
        "import numpy as np\n",
        "import matplotlib.pyplot as plt\n",
        "import random\n",
        "import scipy.linalg as la\n",
        "\n",
        "#the number of steps the simulation is going to move\n",
        "step = 1000 \n",
        "#the allowed grid size on which the simulation will be performed(i.e grid= 10 will produce 10x10 matrix)\n",
        "grid = 10\n",
        "\n",
        "#Create the arrays to store positions in x and y direction\n",
        "#Starting movement from the midpoint\n",
        "if grid % 2 == 0: #checks if given grid is divisible by 2 to find midpoint\n",
        "  midpoint = grid/2\n",
        "else:\n",
        "    midpoint = (grid-1)/2 #if not divisable by 2, then subtract one and then find midpoint\n",
        "x = np.full((step) , midpoint)\n",
        "y = np.full((step), midpoint)\n",
        "\n",
        "#Creating the directions the simulation can move in\n",
        "direction=[\"Up\", \"Down\", \"Left\", \"Right\"]\n",
        "\n",
        "#Creating a matrix from the given grid size, within which the simulation is allowed to move\n",
        "def matrix(grid):\n",
        "  rows = grid\n",
        "  cols = grid\n",
        "  return rows, cols\n",
        "  \n",
        "rows, cols = matrix(grid)\n",
        "for i in range(1,step):\n",
        "  move = random.choice(direction)\n",
        "  if move == \"Up\":\n",
        "    if y[i] == rows : #if the simulation position is at the top of the allowed matrix the move will be disregarded\n",
        "      x[i] = x[i-1]\n",
        "      y[i] = y[i-1]\n",
        "    else:\n",
        "      x[i] = x[i-1]\n",
        "      y[i] = y[i-1] + 1 #otherwise it will move one position up\n",
        "\n",
        "  elif move == \"Down\":\n",
        "    if y[i] == 0:\n",
        "      x[i] = x[i-1]\n",
        "      y[i] = y[i-1]\n",
        "    else:\n",
        "      x[i] = x[i-1]\n",
        "      y[i] = y[i-1] -1\n",
        "\n",
        "\n",
        "  elif move == \"Left\":\n",
        "    if x[i] == 0:\n",
        "      x[i] = x[i-1]\n",
        "      y[i] = y[i-1]\n",
        "    else:    \n",
        "      x[i] = x[i-1] -1\n",
        "      y[i] = y[i-1]\n",
        "\n",
        "\n",
        "  elif move == \"Right\":\n",
        "    if x[i] == cols:\n",
        "      x[i] = x[i-1]\n",
        "      y[i] = y[i-1]\n",
        "    else:\n",
        "      x[i] = x[i-1] +1\n",
        "      y[i] = y[i-1]\n",
        "\n",
        "plt.plot(x,y)\n",
        "plt.show()\n"
      ]
    },
    {
      "cell_type": "code",
      "source": [
        "#Generic Random Walk with defect(2D)\n"
      ],
      "metadata": {
        "id": "7SVEI44X9f31"
      },
      "execution_count": 37,
      "outputs": []
    },
    {
      "cell_type": "markdown",
      "source": [
        "**Max Entopy Random Walk with Defects**\n",
        "\n"
      ],
      "metadata": {
        "id": "fL1_HaG7FxlC"
      }
    },
    {
      "cell_type": "code",
      "source": [
        "#Setting up the same initial conditions as the generic random walk\n",
        "\n",
        "step = 1000 \n",
        "grid = 10\n",
        "\n",
        "if grid % 2 == 0: \n",
        "  midpoint = grid/2\n",
        "else:\n",
        "    midpoint = (grid-1)/2\n",
        "x = np.full((step) , midpoint)\n",
        "y = np.full((step), midpoint)\n",
        "\n",
        "direction=[\"Up\", \"Down\", \"Left\", \"Right\"]\n",
        "\n",
        "def matrix(grid):\n",
        "  rows = grid\n",
        "  cols = grid\n",
        "  return rows, cols"
      ],
      "metadata": {
        "id": "CKKdG_FoGC04"
      },
      "execution_count": 67,
      "outputs": []
    },
    {
      "cell_type": "code",
      "source": [
        "#Setting the intial conditions for the density \n",
        "\n",
        "#The density of defects within a given grid\n",
        "density = .1 \n",
        "\n",
        "#Determines the numbers of defects in the given grid\n",
        "num_defects = int(density * rows * cols)\n",
        "\n",
        "print(\"Total Defects: \", num_defects)"
      ],
      "metadata": {
        "id": "lXSQlSoJGoYQ",
        "outputId": "03f8a472-bcc2-4a04-ae08-7eb9269a250f",
        "colab": {
          "base_uri": "https://localhost:8080/"
        }
      },
      "execution_count": 68,
      "outputs": [
        {
          "output_type": "stream",
          "name": "stdout",
          "text": [
            "Total Defects:  10\n"
          ]
        }
      ]
    },
    {
      "cell_type": "code",
      "source": [
        "#First creating an intial matrix for the simulation to run on\n",
        "#Takes in the size of the input grid and returns all the possible positions on the grid\n",
        "\n",
        "def create_matrix(grid):\n",
        "  #Creates a matrix filled with zeros\n",
        "  vector = np.zeros(grid) \n",
        "  #Sets vector in index 1 and -1 to 1\n",
        "  vector[1] = 1 \n",
        "  vector [-1] = 1\n",
        "  #Creates a circulant matrix the size of the given grid. Looks like ones on the longest off diagonals and ones in the upper right corener and lower left corner\n",
        "  offDiagonal = la.circulant(vector)\n",
        "  #Creates array with ones on the diagonal and zeros everywhere else\n",
        "  diagonal = np.eye(grid)\n",
        "  #Finds the Kronecker product of the diagonal and offdiagonals\n",
        "  #The primary reason for this move is to remove the ones in the corners\n",
        "  initial_matrix = np.kron(offDiagonal, diagonal) + np.kron (diagonal, offDiagonal) \n",
        "  print(initial_matrix)\n",
        "  #Returns an intial matrix populated \n",
        "  return initial_matrix "
      ],
      "metadata": {
        "id": "7ynQ8NCCG_cR"
      },
      "execution_count": 69,
      "outputs": []
    },
    {
      "cell_type": "code",
      "source": [
        "#Randomly determine the position of the defects in the established inital matrix\n",
        "\n",
        "def add_defects(initial_matrix, num_defects):\n",
        "  for i in range (num_defects):\n",
        "    #For every defect, a random position is assigned within the inital matrix\n",
        "    defect_position = np.random.randint(0, rows*cols)\n",
        "    #Sets the x position of the defect in the matrix\n",
        "    initial_matrix[defect_position, :] = 0\n",
        "    #Sets the y position of the defect in the matrix\n",
        "    initial_matrix[:, defect_position] = 0\n",
        "  return initial_matrix"
      ],
      "metadata": {
        "id": "V2IpiG24HGTO"
      },
      "execution_count": 70,
      "outputs": []
    },
    {
      "cell_type": "code",
      "source": [
        "matrix = create_matrix(grid)\n",
        "matrix = add_defects(matrix, num_defects)\n",
        "\n",
        "diag_adj = np.diag(matrix)\n",
        "\n",
        "eig_values, eig_vectors = la.eig(matrix)\n",
        "\n",
        "eig_values = np.real_if_close(eig_values, tol=1)\n",
        "eig_vectors = np.real_if_close(eig_vectors, tol=1)\n",
        "\n",
        "max_Evalue = np.amax(eig_values)\n",
        "max_index = np.where(eig_values == np.amax(eig_values))\n",
        "max_Evector = eig_vectors.T[0]\n",
        "\n",
        "pie_star= np.zeros((grid*grid))\n",
        "pie_starD= np.zeros((grid*grid))\n",
        "pie_sum=0"
      ],
      "metadata": {
        "id": "BthdfqMnHdez",
        "outputId": "be09310b-6f3d-4a2e-8f17-ed057e619a6e",
        "colab": {
          "base_uri": "https://localhost:8080/"
        }
      },
      "execution_count": 71,
      "outputs": [
        {
          "output_type": "stream",
          "name": "stdout",
          "text": [
            "[[0. 1. 0. ... 0. 0. 0.]\n",
            " [1. 0. 1. ... 0. 0. 0.]\n",
            " [0. 1. 0. ... 0. 0. 0.]\n",
            " ...\n",
            " [0. 0. 0. ... 0. 1. 0.]\n",
            " [0. 0. 0. ... 1. 0. 1.]\n",
            " [0. 0. 0. ... 0. 1. 0.]]\n"
          ]
        }
      ]
    },
    {
      "cell_type": "code",
      "source": [
        "for i in range (grid*grid):\n",
        "    pie_starD[i] = max_Evalue * max_Evalue\n",
        "    pie_star[i]= max_Evector[i] * max_Evector[i]\n",
        "    pie_sum += pie_star[i]\n",
        "pie_star=np.reshape(pie_star,[grid,grid])\n",
        "pie_starD=np.reshape(pie_starD,[grid,grid])\n",
        "\n",
        "print(\"Pie sum:\", pie_sum)\n",
        "fig, axs = plt.subplots(1, 2)\n",
        "axs[0].imshow(Lattice.T)\n",
        "axs[0].set_title(\"Lattice\")\n",
        "axs[1].imshow(pie_star.T)\n",
        "axs[1].set_title(\"Pi*\")\n",
        "fig.tight_layout()\n"
      ],
      "metadata": {
        "id": "jM7ocn7JHg1W",
        "outputId": "ba7c7cda-f9dc-4a2b-b0e1-fac69c349964",
        "colab": {
          "base_uri": "https://localhost:8080/",
          "height": 267
        }
      },
      "execution_count": 72,
      "outputs": [
        {
          "output_type": "stream",
          "name": "stdout",
          "text": [
            "Pie sum: 0.9999999999999998\n"
          ]
        },
        {
          "output_type": "display_data",
          "data": {
            "text/plain": [
              "<Figure size 432x288 with 2 Axes>"
            ],
            "image/png": "[encoded data removed]"
          },
          "metadata": {
            "needs_background": "light"
          }
        }
      ]
    },
    {
      "cell_type": "markdown",
      "source": [
        "Random code I deleted but might still want to reuse later below:"
      ],
      "metadata": {
        "id": "M0AbnNU3RteD"
      }
    },
    {
      "cell_type": "code",
      "source": [
        "##Max Entropy Random Walk with defect\n",
        "density = .1 #The density of defects within a given grid\n",
        "\n",
        "#Determines the numbers of defects in the given grid\n",
        "num_defects = int(density * rows * cols)\n",
        "print(\"Total Defects: \", num_defects)\n",
        "\n",
        "#First creating an intial matrix for the simulation to run on\n",
        "#Takes in the size of the input grid and returns all the possible positions on the grid\n",
        "def create_matrix(grid):\n",
        "  #Creates a matrix filled with zeros\n",
        "  vector = np.zeros(grid) \n",
        "  #Sets vector in index 1 and -1 to 1\n",
        "  vector[1] = 1 \n",
        "  vector [-1] = 1\n",
        "  #Creates a circulant matrix the size of the given grid. Looks like ones on the longest off diagonals and ones in the upper right corener and lower left corner\n",
        "  offDiagonal = la.circulant(vector)\n",
        "  #Creates array with ones on the diagonal and zeros everywhere else\n",
        "  diagonal = np.eye(grid)\n",
        "  #Finds the Kronecker product of the diagonal and offdiagonals\n",
        "  #The primary reason for this move is to remove the ones in the corners\n",
        "  initial_matrix = np.kron(offDiagonal, diagonal) + np.kron (diagonal, offDiagonal) \n",
        "  print(initial_matrix)\n",
        "  #Returns an intial matrix populated \n",
        "  return initial_matrix \n",
        "\n",
        "\n",
        "#Randomly determine the position of the defects in the established inital matrix\n",
        "def add_defects(initial_matrix, num_defects):\n",
        "  for i in range (num_defects):\n",
        "    defect_position = np.random.randint(0, rows*cols)\n",
        "    initial_matrix[defect_position, :] = 0\n",
        "    initial_matrix[:, defect_position] = 0\n",
        "  return initial_matrix\n",
        "\n",
        "#Adds the defects to the graph, from the position they are randomly assigned from add_defects\n",
        "def add_to_graph(intial_matrix):\n",
        "  zero_row = np.where(~intial_matrix.any(axis=0))[0]\n",
        "  zero_col = np.where(~intial_matrix.any(axis=1))[0]\n",
        "  lat = np.ones([grid,grid])\n",
        "  #print(zero_row, zero_col)\n",
        "  for i in range(zero_row.shape[0]):\n",
        "      row = int(zero_row[i] / grid)\n",
        "      col = int(zero_col[i] % grid)\n",
        "      lat[row,col]=0\n",
        "  return lat\n",
        "\n",
        "\n",
        "def NN_prob(x0,y0):\n",
        "    i = int(x0 + (grid*(y0)))\n",
        "    #print(\"x,y,i:\", x0, y0,i)\n",
        "\n",
        "    ind = np.asarray(np.nonzero(A[i]))[0]\n",
        "    #print(\"Total neighbours:\", len(ind))\n",
        "    prob = [0,0,0,0]\n",
        "    #print(\"Non-Zero Indices for :\", x0, y0)\n",
        "    for j in range(len(ind)):\n",
        "        nbr = ind[j]\n",
        "        val = A[i, nbr]\n",
        "        x1 = nbr % grid\n",
        "        y1 = int(nbr / grid)\n",
        "        dx = x1 - x0\n",
        "        dy = y1 - y0\n",
        "        move = \"\"\n",
        "        if dx == -1:\n",
        "            move = \"Left\"\n",
        "            prob[2] = abs((val* max_Evector[nbr])/( max_Evalue * max_Evector[i]))\n",
        "        elif dx == 1:\n",
        "            move = \"Right\"\n",
        "            prob[3] = abs((val* max_Evector[nbr])/( max_Evalue * max_Evector[i]))\n",
        "        elif dy == 1:\n",
        "            move = \"Down\"\n",
        "            prob[1] = abs((val* max_Evector[nbr])/( max_Evalue * max_Evector[i]))\n",
        "        elif dy == -1:\n",
        "            move = \"Up\"\n",
        "            prob[0] = abs((val* max_Evector[nbr])/( max_Evalue * max_Evector[i]))\n",
        "        elif dx > 1:\n",
        "            move = \"Left\"\n",
        "            prob[2] = abs((val* max_Evector[nbr])/( max_Evalue * max_Evector[i]))\n",
        "        elif dx < -1:\n",
        "            move = \"Right\"\n",
        "            prob[3] = abs((val* max_Evector[nbr])/( max_Evalue * max_Evector[i]))\n",
        "        elif dy > 1:\n",
        "            move = \"Up\"\n",
        "            prob[0] = abs((val* max_Evector[nbr])/( max_Evalue * max_Evector[i]))\n",
        "        elif dy < -1:\n",
        "            move = \"Down\"\n",
        "            prob[1] = abs((val* max_Evector[nbr])/( max_Evalue * max_Evector[i]))\n",
        "        else:\n",
        "            move = \"Other\"\n",
        "        #print(x1, y1)\n",
        "        #print(\"dx,dy:\", dx, dy, move)\n",
        "    print(prob[0]+prob[1]+prob[2]+prob[3])\n",
        "    prob[:]= prob[:]/ (prob[0]+prob[1]+prob[2]+prob[3])\n",
        "    return prob\n",
        "\n",
        "A = create_matrix(grid)\n",
        "A = add_defects(A, num_defects)\n",
        "#print(defect_A)\n",
        "Lattice = add_to_graph(A)\n",
        "\n",
        "diag_adj = np.diag(A)\n",
        "\n",
        "eig_values, eig_vectors = la.eig(A)\n",
        "\n",
        "eig_values = np.real_if_close(eig_values, tol=1)\n",
        "eig_vectors = np.real_if_close(eig_vectors, tol=1)\n",
        "\n",
        "max_Evalue = np.amax(eig_values)\n",
        "max_index = np.where(eig_values == np.amax(eig_values))\n",
        "max_Evector = eig_vectors.T[0]\n",
        "\n",
        "pie_star= np.zeros((grid*grid))\n",
        "pie_starD= np.zeros((grid*grid))\n",
        "pie_sum=0\n",
        "\n",
        "for i in range (grid*grid):\n",
        "    pie_starD[i] = max_Evalue * max_Evalue\n",
        "    pie_star[i]= max_Evector[i] * max_Evector[i]\n",
        "    pie_sum += pie_star[i]\n",
        "pie_star=np.reshape(pie_star,[grid,grid])\n",
        "pie_starD=np.reshape(pie_starD,[grid,grid])\n",
        "\n",
        "print(\"Pie sum:\", pie_sum)\n",
        "fig, axs = plt.subplots(1, 2)\n",
        "axs[0].imshow(Lattice.T)\n",
        "axs[0].set_title(\"Lattice\")\n",
        "axs[1].imshow(pie_star.T)\n",
        "axs[1].set_title(\"Pi*\")\n",
        "fig.tight_layout()\n"
      ],
      "metadata": {
        "id": "iqUW8ynr9ihk",
        "colab": {
          "base_uri": "https://localhost:8080/",
          "height": 406
        },
        "outputId": "038a4b0e-8fec-4d0b-8111-b59d8b0ec20b"
      },
      "execution_count": 12,
      "outputs": [
        {
          "output_type": "stream",
          "name": "stdout",
          "text": [
            "Total Defects:  10\n",
            "[[0. 1. 0. ... 0. 0. 0.]\n",
            " [1. 0. 1. ... 0. 0. 0.]\n",
            " [0. 1. 0. ... 0. 0. 0.]\n",
            " ...\n",
            " [0. 0. 0. ... 0. 1. 0.]\n",
            " [0. 0. 0. ... 1. 0. 1.]\n",
            " [0. 0. 0. ... 0. 1. 0.]]\n",
            "Pie sum: 0.9999999999999997\n"
          ]
        },
        {
          "output_type": "display_data",
          "data": {
            "text/plain": [
              "<Figure size 432x288 with 2 Axes>"
            ],
            "image/png": "[encoded data removed]"
          },
          "metadata": {
            "needs_background": "light"
          }
        }
      ]
    }
  ]
}