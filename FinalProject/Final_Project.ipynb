{
  "nbformat": 4,
  "nbformat_minor": 0,
  "metadata": {
    "colab": {
      "name": "Final_Project.ipynb",
      "provenance": [],
      "authorship_tag": "ABX9TyMInF9QdsiM7o8JGwx/k7Oc",
      "include_colab_link": true
    },
    "kernelspec": {
      "name": "python3",
      "display_name": "Python 3"
    },
    "language_info": {
      "name": "python"
    }
  },
  "cells": [
    {
      "cell_type": "markdown",
      "metadata": {
        "id": "view-in-github",
        "colab_type": "text"
      },
      "source": [
        "<a href=\"https://colab.research.google.com/github/savibatuan/PHYS486-S22/blob/main/FinalProject/Final_Project.ipynb\" target=\"_parent\"><img src=\"https://colab.research.google.com/assets/colab-badge.svg\" alt=\"Open In Colab\"/></a>"
      ]
    },
    {
      "cell_type": "markdown",
      "source": [
        "**Import for all simulations below**"
      ],
      "metadata": {
        "id": "bRAg4D32W_In"
      }
    },
    {
      "cell_type": "code",
      "source": [
        "import numpy as np\n",
        "import matplotlib.pyplot as plt\n",
        "import random\n",
        "import scipy.linalg as la\n",
        "import matplotlib.animation as animation"
      ],
      "metadata": {
        "id": "N5Uc1FhsxknF"
      },
      "execution_count": 2,
      "outputs": []
    },
    {
      "cell_type": "markdown",
      "source": [
        "**Generic Random Walk without Defect**"
      ],
      "metadata": {
        "id": "aga_qxH0XJXs"
      }
    },
    {
      "cell_type": "code",
      "execution_count": 120,
      "metadata": {
        "colab": {
          "base_uri": "https://localhost:8080/",
          "height": 265
        },
        "id": "r6Y7RpuN7vao",
        "outputId": "1262cb29-dc90-4d27-9711-ed20c186cf4f"
      },
      "outputs": [
        {
          "output_type": "display_data",
          "data": {
            "text/plain": [
              "<Figure size 432x288 with 1 Axes>"
            ],
            "image/png": "[encoded data removed]"
          },
          "metadata": {
            "needs_background": "light"
          }
        }
      ],
      "source": [
        "#the number of steps the simulation is going to move\n",
        "step = 1000\n",
        "#the allowed grid size on which the simulation will be performed(i.e grid= 10 will produce 10x10 matrix)\n",
        "grid = 10\n",
        "\n",
        "#Create the arrays to store positions in x and y direction\n",
        "#Starting movement from the midpoint\n",
        "if grid % 2 == 0: #checks if given grid is divisible by 2 to find midpoint\n",
        "  midpoint = grid/2\n",
        "else:\n",
        "    midpoint = (grid-1)/2 #if not divisable by 2, then subtract one and then find midpoint\n",
        "x = np.full((step) , midpoint)\n",
        "y = np.full((step), midpoint)\n",
        "\n",
        "#Creating the directions the simulation can move in\n",
        "direction=[\"Up\", \"Down\", \"Left\", \"Right\"]\n",
        "\n",
        "#Creating a matrix from the given grid size, within which the simulation is allowed to move\n",
        "def matrix(grid):\n",
        "  rows = grid\n",
        "  cols = grid\n",
        "  return rows, cols\n",
        "  \n",
        "rows, cols = matrix(grid)\n",
        "\n",
        "for i in range(1,step):\n",
        "  move = random.choice(direction)\n",
        "  if move == \"Up\":\n",
        "    if y[i] == rows : #if the simulation position is at the top of the allowed matrix the move will be disregarded\n",
        "      x[i] = x[i-1]\n",
        "      y[i] = y[i-1]\n",
        "    else:\n",
        "      x[i] = x[i-1]\n",
        "      y[i] = y[i-1] + 1 #otherwise it will move one position up\n",
        "\n",
        "  elif move == \"Down\":\n",
        "    if y[i] == 0:\n",
        "      x[i] = x[i-1]\n",
        "      y[i] = y[i-1]\n",
        "    else:\n",
        "      x[i] = x[i-1]\n",
        "      y[i] = y[i-1] -1\n",
        "\n",
        "\n",
        "  elif move == \"Left\":\n",
        "    if x[i] == 0:\n",
        "      x[i] = x[i-1]\n",
        "      y[i] = y[i-1]\n",
        "    else:    \n",
        "      x[i] = x[i-1] -1\n",
        "      y[i] = y[i-1]\n",
        "\n",
        "\n",
        "  elif move == \"Right\":\n",
        "    if x[i] == cols:\n",
        "      x[i] = x[i-1]\n",
        "      y[i] = y[i-1]\n",
        "    else:\n",
        "      x[i] = x[i-1] +1\n",
        "      y[i] = y[i-1]\n",
        "\n",
        "plt.plot(x,y)\n",
        "plt.show()\n"
      ]
    },
    {
      "cell_type": "markdown",
      "source": [
        "**Max Entopy Random Walk with Defects**\n",
        "\n"
      ],
      "metadata": {
        "id": "fL1_HaG7FxlC"
      }
    },
    {
      "cell_type": "code",
      "source": [
        "#Setting up the same initial conditions as the generic random walk\n",
        "\n",
        "#Since this is not running as a simulation, the step size is not needed for the main portion\n",
        "#The post-work attempt at a simulation does require a step size, but is not used in the main\n",
        "step = 1000 \n",
        "grid = 10\n",
        "\n",
        "if grid % 2 == 0: \n",
        "  midpoint = grid/2\n",
        "else:\n",
        "    midpoint = (grid-1)/2\n",
        "x = np.full((step) , midpoint)\n",
        "y = np.full((step), midpoint)\n",
        "\n",
        "direction=[\"Up\", \"Down\", \"Left\", \"Right\"]\n",
        "\n",
        "def matrix(grid):\n",
        "  rows = grid\n",
        "  cols = grid\n",
        "  return rows, cols\n",
        "\n",
        "rows, cols = matrix(grid)\n",
        "full_grid = int(rows*cols)"
      ],
      "metadata": {
        "id": "CKKdG_FoGC04"
      },
      "execution_count": 131,
      "outputs": []
    },
    {
      "cell_type": "code",
      "source": [
        "#Setting the intial conditions for the density \n",
        "\n",
        "#The density of defects within a given grid\n",
        "density = .1 \n",
        "\n",
        "#Determines the numbers of defects in the given grid\n",
        "num_defects = int(density * rows * cols)\n",
        "\n",
        "print(\"Total Defects: \", num_defects)"
      ],
      "metadata": {
        "colab": {
          "base_uri": "https://localhost:8080/"
        },
        "id": "lXSQlSoJGoYQ",
        "outputId": "ca888db0-5a43-4dfa-da1e-52fc9cb0227a"
      },
      "execution_count": 132,
      "outputs": [
        {
          "output_type": "stream",
          "name": "stdout",
          "text": [
            "Total Defects:  10\n"
          ]
        }
      ]
    },
    {
      "cell_type": "code",
      "source": [
        "#First creating an intial matrix for the simulation to run on\n",
        "#Takes in the size of the input grid and returns all the possible positions on the grid\n",
        "\n",
        "def create_matrix(grid):\n",
        "  #Creates a matrix filled with zeros\n",
        "  vector = np.zeros(grid) \n",
        "  #Sets vector in index 1 and -1 to 1\n",
        "  vector[1] = 1 \n",
        "  vector [-1] = 1\n",
        "  #Creates a circulant matrix the size of the given grid. Looks like ones on the longest off diagonals and ones in the upper right corener and lower left corner\n",
        "  offDiagonal = la.circulant(vector)\n",
        "  #Creates array with ones on the diagonal and zeros everywhere else\n",
        "  diagonal = np.eye(grid)\n",
        "  #Finds the Kronecker product of the diagonal and offdiagonals\n",
        "  #The primary reason for this move is to remove the ones in the corners\n",
        "  initial_matrix = np.kron(offDiagonal, diagonal) + np.kron (diagonal, offDiagonal) \n",
        "  print(initial_matrix)\n",
        "  #Returns an intial matrix populated \n",
        "  return initial_matrix "
      ],
      "metadata": {
        "id": "7ynQ8NCCG_cR"
      },
      "execution_count": 133,
      "outputs": []
    },
    {
      "cell_type": "code",
      "source": [
        "#Randomly determine the position of the defects in the established inital matrix\n",
        "\n",
        "def add_defects(initial_matrix, num_defects):\n",
        "  for i in range (num_defects):\n",
        "    #For every defect, a random position is assigned within the inital matrix\n",
        "    defect_position = np.random.randint(0, rows*cols)\n",
        "    #Sets the x position of the defect in the matrix\n",
        "    initial_matrix[defect_position, :] = 0\n",
        "    #Sets the y position of the defect in the matrix\n",
        "    initial_matrix[:, defect_position] = 0\n",
        "  return initial_matrix"
      ],
      "metadata": {
        "id": "V2IpiG24HGTO"
      },
      "execution_count": 134,
      "outputs": []
    },
    {
      "cell_type": "code",
      "source": [
        "#Adds the defects to the graph, from the position they are randomly assigned from add_defects\n",
        "def add_to_graph(intial_matrix):\n",
        "  #Finds where in the initial matrix the value is equal to zero\n",
        "  zero_row = np.where(~intial_matrix.any(axis=0))[0]\n",
        "  #Finds where in the initial matrix the value is equal to one\n",
        "  zero_col = np.where(~intial_matrix.any(axis=1))[0]\n",
        "\n",
        "  #Creates a matrix filled with ones\n",
        "  lat = np.ones([grid,grid])\n",
        "  #print(zero_row, zero_col)\n",
        "\n",
        "  #For the zero row, update the rows and cols to where there are ones and zeros in the correct places\n",
        "  for i in range(zero_row.shape[0]):\n",
        "      rows = int(zero_row[i] / grid)\n",
        "      cols = int(zero_col[i] % grid)\n",
        "      lat[rows,cols]=0\n",
        "  return lat"
      ],
      "metadata": {
        "id": "6noJ4-EmAsDV"
      },
      "execution_count": 135,
      "outputs": []
    },
    {
      "cell_type": "code",
      "source": [
        "matrix = create_matrix(grid)\n",
        "matrix = add_defects(matrix, num_defects)\n",
        "Lattice = add_to_graph(matrix)\n",
        "\n",
        "#Diagonalize the matrix to find eigenvalues\n",
        "diag_adj = np.diag(matrix)\n",
        "\n",
        "#Find the eigenvalues and eigenvectors\n",
        "eig_values, eig_vectors = la.eig(matrix)\n",
        "\n",
        "#Imaginary parts are set to zero, if they are close to zero\n",
        "eig_values = np.real_if_close(eig_values, tol=1)\n",
        "eig_vectors = np.real_if_close(eig_vectors, tol=1)\n",
        "\n",
        "#Find the maximum eigenvalue, this will determine where the \"most traveled\" part of the simulation would be\n",
        "max_Evalue = np.amax(eig_values)\n",
        "\n",
        "#Find the placement of the largest eigenvalue\n",
        "max_index = np.where(eig_values == np.amax(eig_values))\n",
        "\n",
        "#Transposes the eigenvectors with index 0\n",
        "max_Evector = eig_vectors.T[0]\n",
        "\n",
        "#Creating empty arrays to fill in the next step\n",
        "density= np.zeros((grid*grid))\n",
        "eig_density= np.zeros((grid*grid))"
      ],
      "metadata": {
        "colab": {
          "base_uri": "https://localhost:8080/"
        },
        "id": "BthdfqMnHdez",
        "outputId": "e1c9623e-26d4-43fa-93d8-f1932747cbfe"
      },
      "execution_count": 136,
      "outputs": [
        {
          "output_type": "stream",
          "name": "stdout",
          "text": [
            "[[0. 1. 0. ... 0. 0. 0.]\n",
            " [1. 0. 1. ... 0. 0. 0.]\n",
            " [0. 1. 0. ... 0. 0. 0.]\n",
            " ...\n",
            " [0. 0. 0. ... 0. 1. 0.]\n",
            " [0. 0. 0. ... 1. 0. 1.]\n",
            " [0. 0. 0. ... 0. 1. 0.]]\n"
          ]
        }
      ]
    },
    {
      "cell_type": "code",
      "source": [
        "from numpy.ma.core import right_shift\n",
        "for i in range (grid*grid):\n",
        "    #The eigen vectors are transposed at each place in the grid\n",
        "    eig_density[i] = eig_vectors.T[0][i] * eig_vectors.T[0][i]\n",
        "    #The maximum eigenvector is taken at each position\n",
        "    density[i]= max_Evector[i] * max_Evector[i]\n",
        "\n",
        "#The maximum eigenvector are reshaped to fit within the given grid\n",
        "density=np.reshape(density,[grid,grid])\n",
        "#The eigenvectors are also reshaped to fit the grid\n",
        "eig_density=np.reshape(eig_density,[grid,grid])\n",
        "\n",
        "#print(\"Movement Density: \", density)\n",
        "fig, axs = plt.subplots(1, 2)\n",
        "axs[0].imshow(Lattice.T)\n",
        "axs[0].set_title(\"Grid with Defects\")\n",
        "graph = axs[1].imshow(density.T)\n",
        "axs[1].set_title(\"Movement Density\")\n",
        "fig.colorbar(graph, ax=axs)\n",
        "\n",
        "#fig.tight_layout()\n"
      ],
      "metadata": {
        "colab": {
          "base_uri": "https://localhost:8080/",
          "height": 271
        },
        "id": "jM7ocn7JHg1W",
        "outputId": "c57a8b77-06ee-450a-c370-9cd5a76e86f4"
      },
      "execution_count": 137,
      "outputs": [
        {
          "output_type": "execute_result",
          "data": {
            "text/plain": [
              "<matplotlib.colorbar.Colorbar at 0x7f6626e47450>"
            ]
          },
          "metadata": {},
          "execution_count": 137
        },
        {
          "output_type": "display_data",
          "data": {
            "text/plain": [
              "<Figure size 432x288 with 3 Axes>"
            ],
            "image/png": "[encoded data removed]"
          },
          "metadata": {
            "needs_background": "light"
          }
        }
      ]
    },
    {
      "cell_type": "markdown",
      "source": [
        "Below the movement probability shown through steps. The purpose is to show how the true simulation would work and make decisions through probability instead of using eigenvalues. It's still has a bug, but is not a part of the final solution. It does give some values that can be analyzed. Copied from Github user, didn't have time to work through it. "
      ],
      "metadata": {
        "id": "kHRPegjC7qJ2"
      }
    },
    {
      "cell_type": "code",
      "source": [
        "def NN_prob(x0,y0):\n",
        "    i = int(x0 + (grid*(y0)))\n",
        "    #print(\"x,y,i:\", x0, y0,i)\n",
        "\n",
        "    ind = np.asarray(np.nonzero(matrix[i]))[0]\n",
        "    #print(\"Total neighbours:\", len(ind))\n",
        "    prob = [0,0,0,0]\n",
        "    #print(\"Non-Zero Indices for :\", x0, y0)\n",
        "    for j in range(len(ind)):\n",
        "        nbr = ind[j]\n",
        "        val = matrix[i, nbr]\n",
        "        x1 = nbr % grid\n",
        "        y1 = int(nbr / grid)\n",
        "        dx = x1 - x0\n",
        "        dy = y1 - y0\n",
        "        move = \"\"\n",
        "        if dx == -1:\n",
        "            move = \"Left\"\n",
        "            prob[2] = abs((val* max_Evector[nbr])/( max_Evalue * max_Evector[i]))\n",
        "        elif dx == 1:\n",
        "            move = \"Right\"\n",
        "            prob[3] = abs((val* max_Evector[nbr])/( max_Evalue * max_Evector[i]))\n",
        "        elif dy == 1:\n",
        "            move = \"Down\"\n",
        "            prob[1] = abs((val* max_Evector[nbr])/( max_Evalue * max_Evector[i]))\n",
        "        elif dy == -1:\n",
        "            move = \"Up\"\n",
        "            prob[0] = abs((val* max_Evector[nbr])/( max_Evalue * max_Evector[i]))\n",
        "        elif dx > 1:\n",
        "            move = \"Left\"\n",
        "            prob[2] = abs((val* max_Evector[nbr])/( max_Evalue * max_Evector[i]))\n",
        "        elif dx < -1:\n",
        "            move = \"Right\"\n",
        "            prob[3] = abs((val* max_Evector[nbr])/( max_Evalue * max_Evector[i]))\n",
        "        elif dy > 1:\n",
        "            move = \"Up\"\n",
        "            prob[0] = abs((val* max_Evector[nbr])/( max_Evalue * max_Evector[i]))\n",
        "        elif dy < -1:\n",
        "            move = \"Down\"\n",
        "            prob[1] = abs((val* max_Evector[nbr])/( max_Evalue * max_Evector[i]))\n",
        "        else:\n",
        "            move = \"Other\"\n",
        "        #print(x1, y1)\n",
        "        #print(\"dx,dy:\", dx, dy, move)\n",
        "    print(prob[0]+prob[1]+prob[2]+prob[3])\n",
        "    prob[:]= prob[:]/ (prob[0]+prob[1]+prob[2]+prob[3])\n",
        "    return prob"
      ],
      "metadata": {
        "id": "PPJzlBcB7lKg"
      },
      "execution_count": 138,
      "outputs": []
    },
    {
      "cell_type": "code",
      "source": [
        "from numpy.core.numeric import moveaxis\n",
        "#Using the same code as the intitial random walk\n",
        "for i in range(1, full_grid):\n",
        "    move_prob = NN_prob(int(x[i-1]%grid),int(y[i-1]%grid))\n",
        "    print(move_prob)\n",
        "    move = np.random.choice(direction, p=move_prob)\n",
        "    print(\"MOVED:\", move)\n",
        "    if move == \"Up\":\n",
        "      if y[i] == rows : #if the simulation position is at the top of the allowed matrix the move will be disregarded\n",
        "        x[i] = x[i-1]\n",
        "        y[i] = y[i-1]\n",
        "      else:\n",
        "        x[i] = x[i-1]\n",
        "        y[i] = y[i-1] + 1 #otherwise it will move one position up\n",
        "\n",
        "    elif move == \"Down\":\n",
        "      if y[i] == 0:\n",
        "        x[i] = x[i-1]\n",
        "        y[i] = y[i-1]\n",
        "      else:\n",
        "        x[i] = x[i-1]\n",
        "        y[i] = y[i-1] -1\n",
        "\n",
        "\n",
        "    elif move == \"Left\":\n",
        "      if x[i] == 0:\n",
        "        x[i] = x[i-1]\n",
        "        y[i] = y[i-1]\n",
        "      else:    \n",
        "        x[i] = x[i-1] -1\n",
        "        y[i] = y[i-1]\n",
        "\n",
        "\n",
        "    elif move == \"Right\":\n",
        "      if x[i] == cols:\n",
        "        x[i] = x[i-1]\n",
        "        y[i] = y[i-1]\n",
        "      else:\n",
        "        x[i] = x[i-1] +1\n",
        "        y[i] = y[i-1]\n"
      ],
      "metadata": {
        "colab": {
          "base_uri": "https://localhost:8080/",
          "height": 1000
        },
        "id": "YTorjQO_ARjA",
        "outputId": "849e1665-c1cf-4c87-be71-4a5191d80ac1"
      },
      "execution_count": 139,
      "outputs": [
        {
          "output_type": "stream",
          "name": "stdout",
          "text": [
            "1.000000000000004\n",
            "[0.22664505284914874, 0.2743938316064237, 0.18110062633357762, 0.3178604892108498]\n",
            "MOVED: Right\n",
            "1.0000000000000036\n",
            "[0.24364956948195107, 0.25410875874325906, 0.22219888296232743, 0.28004278881246236]\n",
            "MOVED: Left\n",
            "1.000000000000004\n",
            "[0.22664505284914874, 0.2743938316064237, 0.18110062633357762, 0.3178604892108498]\n",
            "MOVED: Right\n",
            "1.0000000000000036\n",
            "[0.24364956948195107, 0.25410875874325906, 0.22219888296232743, 0.28004278881246236]\n",
            "MOVED: Right\n",
            "1.0000000000000018\n",
            "[0.25379525128419966, 0.23688819834993255, 0.2522051931421376, 0.2571113572237302]\n",
            "MOVED: Up\n",
            "1.0000000000000038\n",
            "[0.2981501236974983, 0.17621799432061894, 0.27053922071407716, 0.25509266126780566]\n",
            "MOVED: Down\n",
            "1.0000000000000018\n",
            "[0.25379525128419966, 0.23688819834993255, 0.2522051931421376, 0.2571113572237302]\n",
            "MOVED: Right\n",
            "1.0000000000000022\n",
            "[0.25605557043393895, 0.23502828343532592, 0.2746990502603568, 0.23421709587037837]\n",
            "MOVED: Right\n",
            "1.0000000000000013\n",
            "[0.2479431442309268, 0.243971655314729, 0.30155034318928403, 0.20653485726506027]\n",
            "MOVED: Down\n",
            "1.0000000000000042\n",
            "[0.22913754234675546, 0.2848566184783429, 0.31141673781456736, 0.17458910136033423]\n",
            "MOVED: Left\n",
            "1.0000000000000029\n",
            "[0.22509757168982622, 0.27583170919037536, 0.27227415662236054, 0.2267965624974379]\n",
            "MOVED: Left\n",
            "1.0000000000000027\n",
            "[0.2201874282192609, 0.2782882866528521, 0.24212307527134505, 0.2594012098565419]\n",
            "MOVED: Up\n",
            "1.0000000000000018\n",
            "[0.25379525128419966, 0.23688819834993255, 0.2522051931421376, 0.2571113572237302]\n",
            "MOVED: Up\n",
            "1.0000000000000038\n",
            "[0.2981501236974983, 0.17621799432061894, 0.27053922071407716, 0.25509266126780566]\n",
            "MOVED: Up\n",
            "1.0000000000000042\n",
            "[0.40080041719238685, 0.0, 0.3393733596074001, 0.25982622320021315]\n",
            "MOVED: Left\n",
            "0.9999999999999991\n",
            "[0.3195072019045464, 0.18325113827915374, 0.2891279595476181, 0.20811370026868184]\n",
            "MOVED: Left\n",
            "1.0000000000000049\n",
            "[0.2651472586496661, 0.2479664699175866, 0.2426060373418695, 0.24428023409087782]\n",
            "MOVED: Up\n",
            "1.0000000000000053\n",
            "[0.28482982261264334, 0.2413304280033506, 0.2933127976105302, 0.18052695177347589]\n",
            "MOVED: Right\n",
            "1.0000000000000062\n",
            "[0.3854177731377531, 0.22334842522395548, 0.3912338016382914, 0.0]\n",
            "MOVED: Left\n",
            "1.0000000000000053\n",
            "[0.28482982261264334, 0.2413304280033506, 0.2933127976105302, 0.18052695177347589]\n",
            "MOVED: Left\n",
            "0.9999999999999999\n",
            "[0.23558956562337385, 0.2643847728059837, 0.25923069382330177, 0.24079496774734083]\n",
            "MOVED: Down\n",
            "1.0000000000000024\n",
            "[0.19876470188249037, 0.2997936069605911, 0.21031849235134376, 0.2911231988055747]\n",
            "MOVED: Up\n",
            "0.9999999999999999\n",
            "[0.23558956562337385, 0.2643847728059837, 0.25923069382330177, 0.24079496774734083]\n",
            "MOVED: Left\n",
            "1.0000000000000042\n",
            "[0.19113802275817546, 0.28121405744247896, 0.2551946674516433, 0.27245325234770235]\n",
            "MOVED: Right\n",
            "0.9999999999999999\n",
            "[0.23558956562337385, 0.2643847728059837, 0.25923069382330177, 0.24079496774734083]\n",
            "MOVED: Left\n",
            "1.0000000000000042\n",
            "[0.19113802275817546, 0.28121405744247896, 0.2551946674516433, 0.27245325234770235]\n",
            "MOVED: Left\n",
            "1.0000000000000022\n",
            "[0.22070458723463893, 0.2724474724882832, 0.23008570873909667, 0.27676223153798124]\n",
            "MOVED: Down\n",
            "1.0000000000000024\n",
            "[0.1652779192937983, 0.32001258571677327, 0.275023558357443, 0.2396859366319855]\n",
            "MOVED: Left\n",
            "1.000000000000004\n",
            "[0.2290911635260117, 0.2677236925804683, 0.2463771596527097, 0.2568079842408104]\n",
            "MOVED: Up\n",
            "1.000000000000005\n",
            "[0.26381021776502384, 0.2522159718489046, 0.17700887098343382, 0.30696493940263775]\n",
            "MOVED: Left\n",
            "0.9999999999999996\n",
            "[0.3671952246189553, 0.23379513677869462, 0.0, 0.39900963860235006]\n",
            "MOVED: Up\n",
            "1.0000000000000089\n",
            "[0.30209458850876286, 0.16717777162718242, 0.1002798334478247, 0.43044780641622993]\n",
            "MOVED: Up\n",
            "1.0000000000000027\n",
            "[0.4224739027986039, 0.0, 0.0, 0.5775260972013961]\n",
            "MOVED: Right\n",
            "1.0000000000000058\n",
            "[0.31488267908410555, 0.20492643577666397, 0.12229446596918037, 0.3578964191700502]\n",
            "MOVED: Up\n",
            "1.0000000000000033\n",
            "[0.34465170573445575, 0.26887901297610106, 0.0, 0.38646928128944324]\n",
            "MOVED: Down\n",
            "1.0000000000000058\n",
            "[0.31488267908410555, 0.20492643577666397, 0.12229446596918037, 0.3578964191700502]\n",
            "MOVED: Right\n",
            "1.000000000000004\n",
            "[0.2917362466114486, 0.22128685315005808, 0.19734269989147737, 0.2896342003470159]\n",
            "MOVED: Right\n",
            "1.000000000000004\n",
            "[0.28774091186074324, 0.22074083032956082, 0.24385326579488453, 0.24766499201481132]\n",
            "MOVED: Right\n",
            "1.0000000000000029\n",
            "[0.29759689901518843, 0.21446893645731593, 0.28517654055961994, 0.2027576239678758]\n",
            "MOVED: Left\n",
            "1.000000000000004\n",
            "[0.28774091186074324, 0.22074083032956082, 0.24385326579488453, 0.24766499201481132]\n",
            "MOVED: Down\n",
            "1.0000000000000038\n",
            "[0.2511547476781327, 0.24545778069505592, 0.2472392126197657, 0.25614825900704574]\n",
            "MOVED: Up\n",
            "1.000000000000004\n",
            "[0.28774091186074324, 0.22074083032956082, 0.24385326579488453, 0.24766499201481132]\n",
            "MOVED: Up\n",
            "1.0000000000000036\n",
            "[0.31996004334614236, 0.19495539348819405, 0.2444564593580238, 0.2406281038076399]\n",
            "MOVED: Up\n",
            "1.0000000000000024\n",
            "[0.36227900329819246, 0.14858614575487983, 0.2622644628456241, 0.22687038810130347]\n",
            "MOVED: Up\n",
            "1.0000000000000042\n",
            "[0.4753353368289403, 0.24563627433646087, 0.27902838883459885, 0.0]\n",
            "MOVED: Up\n",
            "1.0000000000000038\n",
            "[0.2875318225343481, 0.303088383015131, 0.0, 0.4093797944505208]\n",
            "MOVED: Down\n",
            "1.0000000000000042\n",
            "[0.4753353368289403, 0.24563627433646087, 0.27902838883459885, 0.0]\n",
            "MOVED: Left\n",
            "1.0000000000000062\n",
            "[0.4467773594853922, 0.0, 0.30010056237948224, 0.25312207813512566]\n",
            "MOVED: Left\n",
            "1.0000000000000007\n",
            "[0.349761101388976, 0.0, 0.41489030385831177, 0.23534859475271216]\n",
            "MOVED: Right\n",
            "1.0000000000000062\n",
            "[0.4467773594853922, 0.0, 0.30010056237948224, 0.25312207813512566]\n",
            "MOVED: Up\n",
            "0\n"
          ]
        },
        {
          "output_type": "error",
          "ename": "TypeError",
          "evalue": "ignored",
          "traceback": [
            "\u001b[0;31m---------------------------------------------------------------------------\u001b[0m",
            "\u001b[0;31mTypeError\u001b[0m                                 Traceback (most recent call last)",
            "\u001b[0;32m<ipython-input-139-00c12cc78434>\u001b[0m in \u001b[0;36m<module>\u001b[0;34m()\u001b[0m\n\u001b[1;32m      2\u001b[0m \u001b[0;31m#Using the same code as the intitial random walk\u001b[0m\u001b[0;34m\u001b[0m\u001b[0;34m\u001b[0m\u001b[0;34m\u001b[0m\u001b[0m\n\u001b[1;32m      3\u001b[0m \u001b[0;32mfor\u001b[0m \u001b[0mi\u001b[0m \u001b[0;32min\u001b[0m \u001b[0mrange\u001b[0m\u001b[0;34m(\u001b[0m\u001b[0;36m1\u001b[0m\u001b[0;34m,\u001b[0m \u001b[0mfull_grid\u001b[0m\u001b[0;34m)\u001b[0m\u001b[0;34m:\u001b[0m\u001b[0;34m\u001b[0m\u001b[0;34m\u001b[0m\u001b[0m\n\u001b[0;32m----> 4\u001b[0;31m     \u001b[0mmove_prob\u001b[0m \u001b[0;34m=\u001b[0m \u001b[0mNN_prob\u001b[0m\u001b[0;34m(\u001b[0m\u001b[0mint\u001b[0m\u001b[0;34m(\u001b[0m\u001b[0mx\u001b[0m\u001b[0;34m[\u001b[0m\u001b[0mi\u001b[0m\u001b[0;34m-\u001b[0m\u001b[0;36m1\u001b[0m\u001b[0;34m]\u001b[0m\u001b[0;34m%\u001b[0m\u001b[0mgrid\u001b[0m\u001b[0;34m)\u001b[0m\u001b[0;34m,\u001b[0m\u001b[0mint\u001b[0m\u001b[0;34m(\u001b[0m\u001b[0my\u001b[0m\u001b[0;34m[\u001b[0m\u001b[0mi\u001b[0m\u001b[0;34m-\u001b[0m\u001b[0;36m1\u001b[0m\u001b[0;34m]\u001b[0m\u001b[0;34m%\u001b[0m\u001b[0mgrid\u001b[0m\u001b[0;34m)\u001b[0m\u001b[0;34m)\u001b[0m\u001b[0;34m\u001b[0m\u001b[0;34m\u001b[0m\u001b[0m\n\u001b[0m\u001b[1;32m      5\u001b[0m     \u001b[0mprint\u001b[0m\u001b[0;34m(\u001b[0m\u001b[0mmove_prob\u001b[0m\u001b[0;34m)\u001b[0m\u001b[0;34m\u001b[0m\u001b[0;34m\u001b[0m\u001b[0m\n\u001b[1;32m      6\u001b[0m     \u001b[0mmove\u001b[0m \u001b[0;34m=\u001b[0m \u001b[0mnp\u001b[0m\u001b[0;34m.\u001b[0m\u001b[0mrandom\u001b[0m\u001b[0;34m.\u001b[0m\u001b[0mchoice\u001b[0m\u001b[0;34m(\u001b[0m\u001b[0mdirection\u001b[0m\u001b[0;34m,\u001b[0m \u001b[0mp\u001b[0m\u001b[0;34m=\u001b[0m\u001b[0mmove_prob\u001b[0m\u001b[0;34m)\u001b[0m\u001b[0;34m\u001b[0m\u001b[0;34m\u001b[0m\u001b[0m\n",
            "\u001b[0;32m<ipython-input-138-72cd312e4b32>\u001b[0m in \u001b[0;36mNN_prob\u001b[0;34m(x0, y0)\u001b[0m\n\u001b[1;32m     44\u001b[0m         \u001b[0;31m#print(\"dx,dy:\", dx, dy, move)\u001b[0m\u001b[0;34m\u001b[0m\u001b[0;34m\u001b[0m\u001b[0;34m\u001b[0m\u001b[0m\n\u001b[1;32m     45\u001b[0m     \u001b[0mprint\u001b[0m\u001b[0;34m(\u001b[0m\u001b[0mprob\u001b[0m\u001b[0;34m[\u001b[0m\u001b[0;36m0\u001b[0m\u001b[0;34m]\u001b[0m\u001b[0;34m+\u001b[0m\u001b[0mprob\u001b[0m\u001b[0;34m[\u001b[0m\u001b[0;36m1\u001b[0m\u001b[0;34m]\u001b[0m\u001b[0;34m+\u001b[0m\u001b[0mprob\u001b[0m\u001b[0;34m[\u001b[0m\u001b[0;36m2\u001b[0m\u001b[0;34m]\u001b[0m\u001b[0;34m+\u001b[0m\u001b[0mprob\u001b[0m\u001b[0;34m[\u001b[0m\u001b[0;36m3\u001b[0m\u001b[0;34m]\u001b[0m\u001b[0;34m)\u001b[0m\u001b[0;34m\u001b[0m\u001b[0;34m\u001b[0m\u001b[0m\n\u001b[0;32m---> 46\u001b[0;31m     \u001b[0mprob\u001b[0m\u001b[0;34m[\u001b[0m\u001b[0;34m:\u001b[0m\u001b[0;34m]\u001b[0m\u001b[0;34m=\u001b[0m \u001b[0mprob\u001b[0m\u001b[0;34m[\u001b[0m\u001b[0;34m:\u001b[0m\u001b[0;34m]\u001b[0m\u001b[0;34m/\u001b[0m \u001b[0;34m(\u001b[0m\u001b[0mprob\u001b[0m\u001b[0;34m[\u001b[0m\u001b[0;36m0\u001b[0m\u001b[0;34m]\u001b[0m\u001b[0;34m+\u001b[0m\u001b[0mprob\u001b[0m\u001b[0;34m[\u001b[0m\u001b[0;36m1\u001b[0m\u001b[0;34m]\u001b[0m\u001b[0;34m+\u001b[0m\u001b[0mprob\u001b[0m\u001b[0;34m[\u001b[0m\u001b[0;36m2\u001b[0m\u001b[0;34m]\u001b[0m\u001b[0;34m+\u001b[0m\u001b[0mprob\u001b[0m\u001b[0;34m[\u001b[0m\u001b[0;36m3\u001b[0m\u001b[0;34m]\u001b[0m\u001b[0;34m)\u001b[0m\u001b[0;34m\u001b[0m\u001b[0;34m\u001b[0m\u001b[0m\n\u001b[0m\u001b[1;32m     47\u001b[0m     \u001b[0;32mreturn\u001b[0m \u001b[0mprob\u001b[0m\u001b[0;34m\u001b[0m\u001b[0;34m\u001b[0m\u001b[0m\n",
            "\u001b[0;31mTypeError\u001b[0m: unsupported operand type(s) for /: 'list' and 'int'"
          ]
        }
      ]
    },
    {
      "cell_type": "markdown",
      "source": [
        "**Random Walk with Defects**"
      ],
      "metadata": {
        "id": "l0_65BvLVyQ4"
      }
    },
    {
      "cell_type": "markdown",
      "source": [
        "Only one line of code is changed from before in the main simulation"
      ],
      "metadata": {
        "id": "-ekX41A6uP2o"
      }
    },
    {
      "cell_type": "code",
      "source": [
        "#Setting up the same initial conditions as the generic random walk\n",
        "\n",
        "#Since this is not running as a simulation, the step size is not needed for the main portion\n",
        "#The post-work attempt at a simulation does require a step size, but is not used in the main\n",
        "step = 1000 \n",
        "grid = 10\n",
        "\n",
        "if grid % 2 == 0: \n",
        "  midpoint = grid/2\n",
        "else:\n",
        "    midpoint = (grid-1)/2\n",
        "x = np.full((step) , midpoint)\n",
        "y = np.full((step), midpoint)\n",
        "\n",
        "direction=[\"Up\", \"Down\", \"Left\", \"Right\"]\n",
        "\n",
        "def matrix(grid):\n",
        "  rows = grid\n",
        "  cols = grid\n",
        "  return rows, cols\n",
        "\n",
        "rows, cols = matrix(grid)\n",
        "full_grid = rows*cols"
      ],
      "metadata": {
        "id": "550cxmQGVyAH"
      },
      "execution_count": 110,
      "outputs": []
    },
    {
      "cell_type": "code",
      "source": [
        "#Setting the intial conditions for the density \n",
        "\n",
        "#The density of defects within a given grid\n",
        "density = .1 \n",
        "\n",
        "#Determines the numbers of defects in the given grid\n",
        "num_defects = int(density * rows * cols)\n",
        "\n",
        "print(\"Total Defects: \", num_defects)"
      ],
      "metadata": {
        "id": "hiw54cyOWXhS",
        "outputId": "7a130bac-3755-404f-ca67-8d978b29fd0b",
        "colab": {
          "base_uri": "https://localhost:8080/"
        }
      },
      "execution_count": 111,
      "outputs": [
        {
          "output_type": "stream",
          "name": "stdout",
          "text": [
            "Total Defects:  10\n"
          ]
        }
      ]
    },
    {
      "cell_type": "code",
      "source": [
        "#First creating an intial matrix for the simulation to run on\n",
        "#Takes in the size of the input grid and returns all the possible positions on the grid\n",
        "\n",
        "def create_matrix(grid):\n",
        "  #Creates a matrix filled with zeros\n",
        "  vector = np.zeros(grid) \n",
        "  #print(vector)\n",
        "  #Sets vector in index 1 and -1 to 1\n",
        "  vector[1] = 1 \n",
        "  vector [-1] = 1\n",
        "  #Creates a circulant matrix the size of the given grid. Looks like ones on the longest off diagonals and ones in the upper right corener and lower left corner\n",
        "  offDiagonal = la.circulant(vector)\n",
        "  #Creates array with ones on the diagonal and zeros everywhere else\n",
        "  diagonal = np.eye(grid)\n",
        "  #Finds the Kronecker product of the diagonal and offdiagonals\n",
        "  #The primary reason for this move is to remove the ones in the corners\n",
        "  initial_matrix = np.kron(offDiagonal, diagonal) + np.kron (diagonal, offDiagonal) \n",
        "  print(initial_matrix)\n",
        "  #Returns an intial matrix populated \n",
        "  return initial_matrix "
      ],
      "metadata": {
        "id": "I_zo7wlsWbgv"
      },
      "execution_count": 112,
      "outputs": []
    },
    {
      "cell_type": "code",
      "source": [
        "#Randomly determine the position of the defects in the established inital matrix\n",
        "\n",
        "def add_defects(initial_matrix, num_defects):\n",
        "  for i in range (num_defects):\n",
        "    #For every defect, a random position is assigned within the inital matrix\n",
        "    defect_position = np.random.randint(0, rows*cols)\n",
        "    #Sets the x position of the defect in the matrix\n",
        "    initial_matrix[defect_position, :] = 0\n",
        "    #Sets the y position of the defect in the matrix\n",
        "    initial_matrix[:, defect_position] = 0\n",
        "  return initial_matrix"
      ],
      "metadata": {
        "id": "EG8nsaJqWlun"
      },
      "execution_count": 113,
      "outputs": []
    },
    {
      "cell_type": "code",
      "source": [
        "#Adds the defects to the graph, from the position they are randomly assigned from add_defects\n",
        "def add_to_graph(intial_matrix):\n",
        "  #Finds where in the initial matrix the value is equal to zero\n",
        "  zero_row = np.where(~intial_matrix.any(axis=0))[0]\n",
        "  #Finds where in the initial matrix the value is equal to one\n",
        "  zero_col = np.where(~intial_matrix.any(axis=1))[0]\n",
        "\n",
        "  #Creates a matrix filled with ones\n",
        "  lat = np.ones([grid,grid])\n",
        "  #print(zero_row, zero_col)\n",
        "\n",
        "  #For the zero row, update the rows and cols to where there are ones and zeros in the correct places\n",
        "  for i in range(zero_row.shape[0]):\n",
        "      rows = int(zero_row[i] / grid)\n",
        "      cols = int(zero_col[i] % grid)\n",
        "      lat[rows,cols]=0\n",
        "  return lat"
      ],
      "metadata": {
        "id": "3ql3XWmjWt-R"
      },
      "execution_count": 114,
      "outputs": []
    },
    {
      "cell_type": "code",
      "source": [
        "matrix = create_matrix(grid)\n",
        "updated_matrix = add_defects(matrix, num_defects)\n",
        "Lattice = add_to_graph(matrix)\n",
        "\n",
        "#Diagonalize the matrix to find eigenvalues\n",
        "diag_adj = np.diag(updated_matrix)\n",
        "\n",
        "#Find the eigenvalues and eigenvectors\n",
        "eig_values, eig_vectors = la.eig(updated_matrix)\n",
        "\n",
        "#Imaginary parts are set to zero, if they are close to zero\n",
        "eig_values = np.real_if_close(eig_values, tol=1)\n",
        "eig_vectors = np.real_if_close(eig_vectors, tol=1)\n",
        "\n",
        "#Find the maximum eigenvalue, this will determine where the \"most traveled\" part of the simulation would be\n",
        "max_Evalue = np.amax(eig_values)\n",
        "\n",
        "#Find the placement of the largest eigenvalue\n",
        "max_index = np.where(eig_values == np.amax(eig_values))\n",
        "\n",
        "#Transposes the eigenvectors with index 0\n",
        "max_Evector = eig_vectors.T[0]\n",
        "\n",
        "#Creating empty arrays to fill in the next step\n",
        "density= np.zeros((grid*grid))\n",
        "eig_density= np.zeros((grid*grid))"
      ],
      "metadata": {
        "id": "Oucww2pVWx0X",
        "outputId": "28222fc8-61fb-4e3a-db05-6e0cfd7b4b5c",
        "colab": {
          "base_uri": "https://localhost:8080/"
        }
      },
      "execution_count": 115,
      "outputs": [
        {
          "output_type": "stream",
          "name": "stdout",
          "text": [
            "[[0. 1. 0. ... 0. 0. 0.]\n",
            " [1. 0. 1. ... 0. 0. 0.]\n",
            " [0. 1. 0. ... 0. 0. 0.]\n",
            " ...\n",
            " [0. 0. 0. ... 0. 1. 0.]\n",
            " [0. 0. 0. ... 1. 0. 1.]\n",
            " [0. 0. 0. ... 0. 1. 0.]]\n"
          ]
        }
      ]
    },
    {
      "cell_type": "code",
      "source": [
        "from numpy.ma.core import right_shift\n",
        "for i in range (grid*grid):\n",
        "    #The eigen vectors are transposed at each place in the grid\n",
        "    eig_density[i] = eig_vectors.T[0][i] * eig_vectors.T[0][i]\n",
        "    #This is the only line of code to change between the two walks\n",
        "    #Originally the max eigenvector was taken, now any eigenvector in space not assigned to a defect is taken\n",
        "    density[i]= eig_vectors.T[1][i] * eig_vectors.T[1][i]\n",
        "\n",
        "#The maximum eigenvector are reshaped to fit within the given grid\n",
        "density=np.reshape(density,[grid,grid])\n",
        "#The eigenvectors are also reshaped to fit the grid\n",
        "eig_density=np.reshape(eig_density,[grid,grid])\n",
        "\n",
        "#print(\"Movement Density: \", density)\n",
        "fig, axs = plt.subplots(1, 2)\n",
        "axs[0].imshow(Lattice.T)\n",
        "axs[0].set_title(\"Grid with Defects\")\n",
        "graph = axs[1].imshow(density.T)\n",
        "axs[1].set_title(\"Movement Density\")\n",
        "fig.colorbar(graph, ax=axs)"
      ],
      "metadata": {
        "id": "P7jrKsVBW1oy",
        "outputId": "29584bb9-5580-4b4b-f44c-489b170cd3fb",
        "colab": {
          "base_uri": "https://localhost:8080/",
          "height": 271
        }
      },
      "execution_count": 116,
      "outputs": [
        {
          "output_type": "execute_result",
          "data": {
            "text/plain": [
              "<matplotlib.colorbar.Colorbar at 0x7f662728f410>"
            ]
          },
          "metadata": {},
          "execution_count": 116
        },
        {
          "output_type": "display_data",
          "data": {
            "text/plain": [
              "<Figure size 432x288 with 3 Axes>"
            ],
            "image/png": "[encoded data removed]"
          },
          "metadata": {
            "needs_background": "light"
          }
        }
      ]
    },
    {
      "cell_type": "markdown",
      "source": [
        "Same situation as above, I took some code from a person who used simulation to solve and it didn't work fully again. When it gives some values I can tell it's giving reasonable values since there is an equal chance of each move, except when blocked by a defect."
      ],
      "metadata": {
        "id": "7hfhTlAKwZPv"
      }
    },
    {
      "cell_type": "code",
      "source": [
        "def NN_prob(x0,y0):\n",
        "    i = int(x0 + (grid*(y0)))\n",
        "    print(\"x,y,i:\", x0, y0,i)\n",
        "\n",
        "    ind = np.asarray(np.nonzero(updated_matrix[i]))[0]\n",
        "    print(\"Total neighbours:\", len(ind))\n",
        "    prob = [0,0,0,0]\n",
        "    #print(\"Non-Zero Indices for :\", x0, y0)\n",
        "    for j in range(len(ind)):\n",
        "        nbr = ind[j]\n",
        "        val = matrix[i, nbr]\n",
        "        x1 = nbr % grid\n",
        "        y1 = int(nbr / grid)\n",
        "        dx = x1 - x0\n",
        "        dy = y1 - y0\n",
        "        move = \"\"\n",
        "        if dx == -1:\n",
        "            move = \"Left\"\n",
        "            prob[2] = val/len(ind)\n",
        "        elif dx == 1:\n",
        "            move = \"Right\"\n",
        "            prob[3] = val / len(ind)\n",
        "        elif dy == 1:\n",
        "            move = \"Down\"\n",
        "            prob[1] = val / len(ind)\n",
        "        elif dy == -1:\n",
        "            move = \"Up\"\n",
        "            prob[0] = val / len(ind)\n",
        "        elif dx > 1:\n",
        "            move = \"Left\"\n",
        "            prob[2] = val / len(ind)\n",
        "        elif dx < -1:\n",
        "            move = \"Right\"\n",
        "            prob[3] = val / len(ind)\n",
        "        elif dy > 1:\n",
        "            move = \"Up\"\n",
        "            prob[0] = val / len(ind)\n",
        "        elif dy < -1:\n",
        "            move = \"Down\"\n",
        "            prob[1] = val / len(ind)\n",
        "        else:\n",
        "            move = \"Other\"\n",
        "        print(x1, y1)\n",
        "        print(\"dx,dy:\", dx, dy, move)\n",
        "    return prob"
      ],
      "metadata": {
        "id": "XoaegnKruxe4"
      },
      "execution_count": 140,
      "outputs": []
    },
    {
      "cell_type": "code",
      "source": [
        "for i in range(1, step):\n",
        "    move_prob = NN_prob(int(x[i-1]%grid),int(y[i-1]%grid))\n",
        "    print(move_prob)\n",
        "    move = np.random.choice(direction, p=move_prob) #Randomly choosing the direction of movement.\n",
        "    print(\"MOVED:\",step)\n",
        "    if move == \"Up\":\n",
        "      if y[i] == rows : #if the simulation position is at the top of the allowed matrix the move will be disregarded\n",
        "        x[i] = x[i-1]\n",
        "        y[i] = y[i-1]\n",
        "      else:\n",
        "        x[i] = x[i-1]\n",
        "        y[i] = y[i-1] + 1 #otherwise it will move one position up\n",
        "\n",
        "    elif move == \"Down\":\n",
        "      if y[i] == 0:\n",
        "        x[i] = x[i-1]\n",
        "        y[i] = y[i-1]\n",
        "      else:\n",
        "        x[i] = x[i-1]\n",
        "        y[i] = y[i-1] -1\n",
        "\n",
        "\n",
        "    elif move == \"Left\":\n",
        "      if x[i] == 0:\n",
        "        x[i] = x[i-1]\n",
        "        y[i] = y[i-1]\n",
        "      else:    \n",
        "        x[i] = x[i-1] -1\n",
        "        y[i] = y[i-1]\n",
        "\n",
        "\n",
        "    elif move == \"Right\":\n",
        "      if x[i] == cols:\n",
        "        x[i] = x[i-1]\n",
        "        y[i] = y[i-1]\n",
        "      else:\n",
        "        x[i] = x[i-1] +1\n",
        "        y[i] = y[i-1]\n",
        "\n",
        "fig, ax = plt.subplots()"
      ],
      "metadata": {
        "id": "tV1ah031u3V1",
        "outputId": "46ec848d-664e-48fb-faf8-d66c87f0a3ae",
        "colab": {
          "base_uri": "https://localhost:8080/",
          "height": 894
        }
      },
      "execution_count": 141,
      "outputs": [
        {
          "output_type": "stream",
          "name": "stdout",
          "text": [
            "x,y,i: 5 5 55\n",
            "Total neighbours: 4\n",
            "5 4\n",
            "dx,dy: 0 -1 Up\n",
            "4 5\n",
            "dx,dy: -1 0 Left\n",
            "6 5\n",
            "dx,dy: 1 0 Right\n",
            "5 6\n",
            "dx,dy: 0 1 Down\n",
            "[0.25, 0.25, 0.25, 0.25]\n",
            "MOVED: 1000\n",
            "x,y,i: 4 5 54\n",
            "Total neighbours: 4\n",
            "4 4\n",
            "dx,dy: 0 -1 Up\n",
            "3 5\n",
            "dx,dy: -1 0 Left\n",
            "5 5\n",
            "dx,dy: 1 0 Right\n",
            "4 6\n",
            "dx,dy: 0 1 Down\n",
            "[0.25, 0.25, 0.25, 0.25]\n",
            "MOVED: 1000\n",
            "x,y,i: 4 4 44\n",
            "Total neighbours: 4\n",
            "4 3\n",
            "dx,dy: 0 -1 Up\n",
            "3 4\n",
            "dx,dy: -1 0 Left\n",
            "5 4\n",
            "dx,dy: 1 0 Right\n",
            "4 5\n",
            "dx,dy: 0 1 Down\n",
            "[0.0, 0.25, 0.25, 0.25]\n"
          ]
        },
        {
          "output_type": "error",
          "ename": "ValueError",
          "evalue": "ignored",
          "traceback": [
            "\u001b[0;31m---------------------------------------------------------------------------\u001b[0m",
            "\u001b[0;31mValueError\u001b[0m                                Traceback (most recent call last)",
            "\u001b[0;32m<ipython-input-141-aedf85c95424>\u001b[0m in \u001b[0;36m<module>\u001b[0;34m()\u001b[0m\n\u001b[1;32m      2\u001b[0m     \u001b[0mmove_prob\u001b[0m \u001b[0;34m=\u001b[0m \u001b[0mNN_prob\u001b[0m\u001b[0;34m(\u001b[0m\u001b[0mint\u001b[0m\u001b[0;34m(\u001b[0m\u001b[0mx\u001b[0m\u001b[0;34m[\u001b[0m\u001b[0mi\u001b[0m\u001b[0;34m-\u001b[0m\u001b[0;36m1\u001b[0m\u001b[0;34m]\u001b[0m\u001b[0;34m%\u001b[0m\u001b[0mgrid\u001b[0m\u001b[0;34m)\u001b[0m\u001b[0;34m,\u001b[0m\u001b[0mint\u001b[0m\u001b[0;34m(\u001b[0m\u001b[0my\u001b[0m\u001b[0;34m[\u001b[0m\u001b[0mi\u001b[0m\u001b[0;34m-\u001b[0m\u001b[0;36m1\u001b[0m\u001b[0;34m]\u001b[0m\u001b[0;34m%\u001b[0m\u001b[0mgrid\u001b[0m\u001b[0;34m)\u001b[0m\u001b[0;34m)\u001b[0m\u001b[0;34m\u001b[0m\u001b[0;34m\u001b[0m\u001b[0m\n\u001b[1;32m      3\u001b[0m     \u001b[0mprint\u001b[0m\u001b[0;34m(\u001b[0m\u001b[0mmove_prob\u001b[0m\u001b[0;34m)\u001b[0m\u001b[0;34m\u001b[0m\u001b[0;34m\u001b[0m\u001b[0m\n\u001b[0;32m----> 4\u001b[0;31m     \u001b[0mmove\u001b[0m \u001b[0;34m=\u001b[0m \u001b[0mnp\u001b[0m\u001b[0;34m.\u001b[0m\u001b[0mrandom\u001b[0m\u001b[0;34m.\u001b[0m\u001b[0mchoice\u001b[0m\u001b[0;34m(\u001b[0m\u001b[0mdirection\u001b[0m\u001b[0;34m,\u001b[0m \u001b[0mp\u001b[0m\u001b[0;34m=\u001b[0m\u001b[0mmove_prob\u001b[0m\u001b[0;34m)\u001b[0m \u001b[0;31m#Randomly choosing the direction of movement.\u001b[0m\u001b[0;34m\u001b[0m\u001b[0;34m\u001b[0m\u001b[0m\n\u001b[0m\u001b[1;32m      5\u001b[0m     \u001b[0mprint\u001b[0m\u001b[0;34m(\u001b[0m\u001b[0;34m\"MOVED:\"\u001b[0m\u001b[0;34m,\u001b[0m\u001b[0mstep\u001b[0m\u001b[0;34m)\u001b[0m\u001b[0;34m\u001b[0m\u001b[0;34m\u001b[0m\u001b[0m\n\u001b[1;32m      6\u001b[0m     \u001b[0;32mif\u001b[0m \u001b[0mmove\u001b[0m \u001b[0;34m==\u001b[0m \u001b[0;34m\"Up\"\u001b[0m\u001b[0;34m:\u001b[0m\u001b[0;34m\u001b[0m\u001b[0;34m\u001b[0m\u001b[0m\n",
            "\u001b[0;32mmtrand.pyx\u001b[0m in \u001b[0;36mnumpy.random.mtrand.RandomState.choice\u001b[0;34m()\u001b[0m\n",
            "\u001b[0;31mValueError\u001b[0m: probabilities do not sum to 1"
          ]
        }
      ]
    }
  ]
}