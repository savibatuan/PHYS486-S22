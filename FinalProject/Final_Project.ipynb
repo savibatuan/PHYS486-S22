{
  "nbformat": 4,
  "nbformat_minor": 0,
  "metadata": {
    "colab": {
      "name": "Final_Project.ipynb",
      "provenance": [],
      "authorship_tag": "ABX9TyO4N2zwDRrUXP4zfTRn9POz",
      "include_colab_link": true
    },
    "kernelspec": {
      "name": "python3",
      "display_name": "Python 3"
    },
    "language_info": {
      "name": "python"
    }
  },
  "cells": [
    {
      "cell_type": "markdown",
      "metadata": {
        "id": "view-in-github",
        "colab_type": "text"
      },
      "source": [
        "<a href=\"https://colab.research.google.com/github/savibatuan/PHYS486-S22/blob/main/FinalProject/Final_Project.ipynb\" target=\"_parent\"><img src=\"https://colab.research.google.com/assets/colab-badge.svg\" alt=\"Open In Colab\"/></a>"
      ]
    },
    {
      "cell_type": "code",
      "execution_count": 4,
      "metadata": {
        "colab": {
          "base_uri": "https://localhost:8080/",
          "height": 265
        },
        "id": "r6Y7RpuN7vao",
        "outputId": "11b45aea-d85e-4e82-a2f3-98ccc9f9633f"
      },
      "outputs": [
        {
          "output_type": "display_data",
          "data": {
            "text/plain": [
              "<Figure size 432x288 with 1 Axes>"
            ],
            "image/png": "[encoded data removed]"
          },
          "metadata": {
            "needs_background": "light"
          }
        }
      ],
      "source": [
        "#Generic Random Walk without defect(2D)\n",
        "\n",
        "import numpy as np\n",
        "import matplotlib.pyplot as plt\n",
        "import random\n",
        "\n",
        "#the number of steps the simulation is going to move\n",
        "step = 1000 \n",
        "#the allowed grid size on which the simulation will be performed(i.e grid= 10 will produce 10x10 matrix)\n",
        "grid = 10\n",
        "\n",
        "#Create the arrays to store positions in x and y direction\n",
        "#Starting movement from the midpoint\n",
        "if grid % 2 == 0: #checks if given grid is divisible by 2 to find midpoint\n",
        "  midpoint = grid/2\n",
        "else:\n",
        "    midpoint = (grid-1)/2 #if not divisable by 2, then subtract one and then find midpoint\n",
        "x = np.full((step) , midpoint)\n",
        "y = np.full((step), midpoint)\n",
        "\n",
        "#Creating the directions the simulation can move in\n",
        "direction=[\"Up\", \"Down\", \"Left\", \"Right\"]\n",
        "\n",
        "#Creating a matrix from the given grid size, within which the simulation is allowed to move\n",
        "def matrix(grid):\n",
        "  rows = grid\n",
        "  cols = grid\n",
        "  return rows, cols\n",
        "  \n",
        "rows, cols = matrix(grid)\n",
        "for i in range(1,step):\n",
        "  move = random.choice(direction)\n",
        "  if move == \"Up\":\n",
        "    if y[i] == rows : #if the simulation position is at the top of the allowed matrix the move will be disregarded\n",
        "      x[i] = x[i-1]\n",
        "      y[i] = y[i-1]\n",
        "    else:\n",
        "      x[i] = x[i-1]\n",
        "      y[i] = y[i-1] + 1 #otherwise it will move one position up\n",
        "\n",
        "  elif move == \"Down\":\n",
        "    if y[i] == 0:\n",
        "      x[i] = x[i-1]\n",
        "      y[i] = y[i-1]\n",
        "    else:\n",
        "      x[i] = x[i-1]\n",
        "      y[i] = y[i-1] -1\n",
        "\n",
        "\n",
        "  elif move == \"Left\":\n",
        "    if x[i] == 0:\n",
        "      x[i] = x[i-1]\n",
        "      y[i] = y[i-1]\n",
        "    else:    \n",
        "      x[i] = x[i-1] -1\n",
        "      y[i] = y[i-1]\n",
        "\n",
        "\n",
        "  elif move == \"Right\":\n",
        "    if x[i] == cols:\n",
        "      x[i] = x[i-1]\n",
        "      y[i] = y[i-1]\n",
        "    else:\n",
        "      x[i] = x[i-1] +1\n",
        "      y[i] = y[i-1]\n",
        "\n",
        "plt.plot(x,y)\n",
        "plt.show()\n"
      ]
    },
    {
      "cell_type": "code",
      "source": [
        "#Generic Random Walk with defect(2D)\n",
        "density = .1 #The density of defects within a given grid\n",
        "\n",
        "#Determines the numbers of defects in the given grid\n",
        "num_defects = int(density * rows * cols)\n",
        "\n",
        "#Creating an empty matrix to be able to place \n",
        "def create_grid(rows, cols):\n",
        "  defect_position = np.empty((rows, cols))\n",
        "  return defect_position\n",
        "\n",
        "\n",
        "#Randomly populate the grid with defects\n",
        "for i in range (num_defects):\n",
        "  defect_position = create_grid(rows, cols)\n",
        "  position = np.random(0, rows*cols)\n",
        "  defect_position[position, :] = 0\n",
        "  defect_position[:, position] = 0\n",
        "\n",
        "\n"
      ],
      "metadata": {
        "colab": {
          "base_uri": "https://localhost:8080/",
          "height": 235
        },
        "id": "7SVEI44X9f31",
        "outputId": "0a4f42ab-df98-4891-bec0-8b7619b91f19"
      },
      "execution_count": null,
      "outputs": [
        {
          "output_type": "error",
          "ename": "TypeError",
          "evalue": "ignored",
          "traceback": [
            "\u001b[0;31m---------------------------------------------------------------------------\u001b[0m",
            "\u001b[0;31mTypeError\u001b[0m                                 Traceback (most recent call last)",
            "\u001b[0;32m<ipython-input-11-2a13bb941166>\u001b[0m in \u001b[0;36m<module>\u001b[0;34m()\u001b[0m\n\u001b[1;32m     14\u001b[0m \u001b[0;32mfor\u001b[0m \u001b[0mi\u001b[0m \u001b[0;32min\u001b[0m \u001b[0mrange\u001b[0m \u001b[0;34m(\u001b[0m\u001b[0mnum_defects\u001b[0m\u001b[0;34m)\u001b[0m\u001b[0;34m:\u001b[0m\u001b[0;34m\u001b[0m\u001b[0;34m\u001b[0m\u001b[0m\n\u001b[1;32m     15\u001b[0m   \u001b[0mdefect_position\u001b[0m \u001b[0;34m=\u001b[0m \u001b[0mcreate_grid\u001b[0m\u001b[0;34m(\u001b[0m\u001b[0mrows\u001b[0m\u001b[0;34m,\u001b[0m \u001b[0mcols\u001b[0m\u001b[0;34m)\u001b[0m\u001b[0;34m\u001b[0m\u001b[0;34m\u001b[0m\u001b[0m\n\u001b[0;32m---> 16\u001b[0;31m   \u001b[0mposition\u001b[0m \u001b[0;34m=\u001b[0m \u001b[0mnp\u001b[0m\u001b[0;34m.\u001b[0m\u001b[0mrandom\u001b[0m\u001b[0;34m(\u001b[0m\u001b[0;36m0\u001b[0m\u001b[0;34m,\u001b[0m \u001b[0mrows\u001b[0m\u001b[0;34m*\u001b[0m\u001b[0mcols\u001b[0m\u001b[0;34m)\u001b[0m\u001b[0;34m\u001b[0m\u001b[0;34m\u001b[0m\u001b[0m\n\u001b[0m\u001b[1;32m     17\u001b[0m   \u001b[0mdefect_position\u001b[0m\u001b[0;34m[\u001b[0m\u001b[0mposition\u001b[0m\u001b[0;34m,\u001b[0m \u001b[0;34m:\u001b[0m\u001b[0;34m]\u001b[0m \u001b[0;34m=\u001b[0m \u001b[0;36m0\u001b[0m\u001b[0;34m\u001b[0m\u001b[0;34m\u001b[0m\u001b[0m\n\u001b[1;32m     18\u001b[0m   \u001b[0mdefect_position\u001b[0m\u001b[0;34m[\u001b[0m\u001b[0;34m:\u001b[0m\u001b[0;34m,\u001b[0m \u001b[0mposition\u001b[0m\u001b[0;34m]\u001b[0m \u001b[0;34m=\u001b[0m \u001b[0;36m0\u001b[0m\u001b[0;34m\u001b[0m\u001b[0;34m\u001b[0m\u001b[0m\n",
            "\u001b[0;31mTypeError\u001b[0m: 'module' object is not callable"
          ]
        }
      ]
    },
    {
      "cell_type": "code",
      "source": [
        "#Max Entropy Random Walk with defect"
      ],
      "metadata": {
        "id": "iqUW8ynr9ihk"
      },
      "execution_count": null,
      "outputs": []
    }
  ]
}